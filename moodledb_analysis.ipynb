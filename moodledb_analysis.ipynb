{
 "cells": [
  {
   "cell_type": "markdown",
   "metadata": {},
   "source": [
    "## Moodle Database: Educational Data Log Analysis\n",
    "\n",
    "In this challenge we are going to analyze the 2019 10 Academy learners activity in the Moodle Learning Management System. The Moodle LMS  is a free and open-source learning management system written in PHP and distributed under the GNU General Public License. It is used for blended learning, distance education, flipped classroom and other e-learning projects in schools, universities, workplaces and other sectors.\n",
    "In 2019, 10 Academy used the Moodle LMS to manage about 1000 students in their 6 months data science training. Learners, course instructors, and all admins interacted with the Moodle system for almost all the training activities. All events from these activities are logged in the moodle postgres database.\n",
    "\n",
    "In this challenge we are asked to explore the 10 Academy Moodle logs stored in the database together with many other relevant tables. By the end of this analysis, we are expected to build a Tableau dashboard that illustrates the progress of students across time.\n",
    "\n",
    "\n",
    "**We are going to follow the following 5 steps to build the solution**\n",
    "1. Connecting postgressql to this notebook\n",
    "2. Moodle database schema understanding by analyzing and dumping the giving sql data(I have already dumped the sql data)\n",
    "3. Data Extraction Transformation and Loading (ETL) for dashboard and getting insight from the give data\n",
    "4. Building Dashboard using tableau public \n",
    "5. Automation and Deployment\n",
    "\n",
    "lets getstarted"
   ]
  },
  {
   "cell_type": "markdown",
   "metadata": {},
   "source": [
    "### Step1. Connecting postgress to this notebook"
   ]
  },
  {
   "cell_type": "code",
   "execution_count": null,
   "metadata": {},
   "outputs": [],
   "source": []
  }
 ],
 "metadata": {
  "kernelspec": {
   "display_name": "Python 3",
   "language": "python",
   "name": "python3"
  },
  "language_info": {
   "codemirror_mode": {
    "name": "ipython",
    "version": 3
   },
   "file_extension": ".py",
   "mimetype": "text/x-python",
   "name": "python",
   "nbconvert_exporter": "python",
   "pygments_lexer": "ipython3",
   "version": "3.7.6"
  }
 },
 "nbformat": 4,
 "nbformat_minor": 4
}
